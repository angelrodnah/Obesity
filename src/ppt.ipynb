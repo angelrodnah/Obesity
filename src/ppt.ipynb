{
 "cells": [
  {
   "cell_type": "code",
   "execution_count": 2,
   "metadata": {},
   "outputs": [],
   "source": [
    "from pptx import Presentation\n",
    "from pptx.util import Inches\n",
    "\n",
    "# Crear la presentación\n",
    "presentation = Presentation()\n",
    "\n",
    "# Lista de puntos del esquema\n",
    "puntos = [\n",
    "    \"1. Carga de librerías y configuraciones\",\n",
    "    \"2. Análisis Exploratorio de Datos (EDA)\\n    2.1. Carga datos\\n    2.2. Significado de las columnas\\n    2.3. Objetivo\\n    2.4. Descripción del conjunto de datos\\n    2.5. Diccionarios\\n    2.6. Target\",\n",
    "    \"3. Problema Machine Learning\",\n",
    "    \"4. Ingeniería de características (Feature Engineering)\",\n",
    "    \"5. Análisis univariante\",\n",
    "    \"6. Análisis bivariante\",\n",
    "    \"7. Eliminación de características (Feature Elimination)\",\n",
    "    \"8. Correlación\",\n",
    "    \"9. Anomalías y errores\",\n",
    "    \"10. Transformaciones (Encoding)\",\n",
    "    \"11. División train y test\",\n",
    "    \"12. Reducción de características (Feature Reduction)\",\n",
    "    \"13. Elección de métrica del modelo\\n    13.1. Métricas de clasificación\",\n",
    "    \"14. Baselines\",\n",
    "    \"15. Elección de hiperparámetros: Fine tuning\\n    15.1. Fine-tuning por RandomSearchCV\\n        • 15.1.1. Finetuning por RandomSearchCV\\n    15.2. Fine-tuning por Optuna\\n    15.3. Fine-tuning por Pycaret\",\n",
    "    \"16. Validación, rendimiento, ROC AUC\",\n",
    "    \"17. Metamodelo\\n    17.1. Voting\\n    17.2. Stacking\",\n",
    "    \"18. Deep Learning\"\n",
    "]\n",
    "\n",
    "\n",
    "\n",
    "\n",
    "\n",
    "# Crear una diapositiva para cada punto\n",
    "for punto in puntos:\n",
    "    slide_layout = presentation.slide_layouts[1] # Elegir el diseño de la diapositiva (título y contenido)\n",
    "    slide = presentation.slides.add_slide(slide_layout)\n",
    "    title = slide.shapes.title\n",
    "    content = slide.placeholders[1]\n",
    "    punto_split = punto.split(\"\\n\")\n",
    "    title.text = punto_split[0]\n",
    "    content.text = \"\\n\".join(punto_split[1:])\n",
    "\n",
    "\n",
    "# Guardar la presentación\n",
    "presentation.save('presentation.pptx')\n"
   ]
  }
 ],
 "metadata": {
  "kernelspec": {
   "display_name": "DS",
   "language": "python",
   "name": "python3"
  },
  "language_info": {
   "codemirror_mode": {
    "name": "ipython",
    "version": 3
   },
   "file_extension": ".py",
   "mimetype": "text/x-python",
   "name": "python",
   "nbconvert_exporter": "python",
   "pygments_lexer": "ipython3",
   "version": "3.11.6"
  }
 },
 "nbformat": 4,
 "nbformat_minor": 2
}
